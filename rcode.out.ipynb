{
 "cells": [
  {
   "cell_type": "markdown",
   "metadata": {},
   "source": [
    "# R code from PRACTICE sections\n",
    "\n",
    "> **Note**\n",
    ">\n",
    "> This Notebook contains only the R code from the PRACTICE sections of the manuscript. The number of samples and repetitions for all simulations have been greatly reduced to ensure that the code runs quickly and with limited computational resources.\n",
    "\n",
    "## Simulate the data generating process"
   ],
   "id": "ac871486-6eb4-425f-994e-a52a7180a43e"
  },
  {
   "cell_type": "code",
   "execution_count": null,
   "metadata": {},
   "outputs": [],
   "source": [
    "simulate <- function(n_subjects = 100, n_items = 50,\n",
    "  b_0 = 0.847, b_e = 1.350, b_a = -1.253, b_c = 2.603,\n",
    "  b_ea = 0.790, b_ec = -1.393,\n",
    "  sd_u0s = 0.5, sd_u0i = 0.5, ...){\n",
    "  require(dplyr)\n",
    "  require(faux)\n",
    "  # simulate design\n",
    "  dat <- add_random(subject = n_subjects, item = n_items) %>%\n",
    "    add_between(\"subject\", expert = c(1, 0), .prob = c(0.25, 0.75)) %>%\n",
    "    mutate(advice_present = rbinom(n(), 1, prob = 2/3)) %>%\n",
    "    mutate(advice_correct = if_else(advice_present == 1L, \n",
    "                                    rbinom(n(), 1L, prob = 0.8), 0L)) %>%\n",
    "    # add random effects\n",
    "    add_ranef(\"subject\", u0s = sd_u0s) %>%\n",
    "    add_ranef(\"item\", u0i = sd_u0i) %>%\n",
    "    # compute dependent variable\n",
    "    mutate(linpred = b_0 + u0i + u0s +\n",
    "      b_e * expert + b_a * advice_present + b_c * advice_correct +\n",
    "      b_ea * expert * advice_present + b_ec * expert * advice_correct) %>%\n",
    "    mutate(y_prob = plogis(linpred)) %>%\n",
    "    mutate(y_bin = rbinom(n = n(), size = 1, prob = y_prob))\n",
    "  dat\n",
    "}\n"
   ],
   "id": "15a34602-80a7-4d97-b079-aef718df0498"
  },
  {
   "cell_type": "markdown",
   "metadata": {},
   "source": [
    "## Specify the population parameters"
   ],
   "id": "118efcd2-d6ec-4e1d-81c9-d837ac6aab1c"
  },
  {
   "cell_type": "code",
   "execution_count": null,
   "metadata": {},
   "outputs": [],
   "source": [
    "b_0 <- qlogis(0.7)\n",
    "b_e <- qlogis(0.9) - b_0\n",
    "b_a <- qlogis(0.4) - b_0\n",
    "b_ea <- qlogis(0.85) - b_0 - b_e - b_a\n",
    "b_c <- qlogis(0.9) - b_0 - b_a\n",
    "b_ec <- qlogis(0.95) - b_0 - b_e - b_a - b_c - b_ea\n",
    "c(b_0 = b_0, b_e = b_e, b_a = b_a, b_c = b_c, b_ea = b_ea, b_ec = b_ec)\n"
   ],
   "id": "f8b3b927-f18c-442d-a3d0-ba753d28beae"
  },
  {
   "cell_type": "code",
   "execution_count": null,
   "metadata": {},
   "outputs": [],
   "source": [
    "plogis(b_0 + b_e + b_a + b_c + b_ea + b_ec)\n"
   ],
   "id": "d8b9479f-b529-4460-808a-ccb07b2f901d"
  },
  {
   "cell_type": "markdown",
   "metadata": {},
   "source": [
    "### Insightful descriptive statistics"
   ],
   "id": "d238ee9e-8e23-4a1f-9e5f-3c56260337c6"
  },
  {
   "cell_type": "code",
   "execution_count": null,
   "metadata": {},
   "outputs": [],
   "source": [
    "library(tidyverse)\n",
    "set.seed(1)\n",
    "dat <- simulate(n_subjects = 500, n_items = 500,\n",
    "  sd_u0s = 0.5, sd_u0i = 0.5)\n",
    "dat %>% \n",
    "  mutate(condition = fct_cross(\n",
    "    factor(expert), factor(advice_present), factor(advice_correct))) %>%\n",
    "  mutate(condition = fct_recode(condition,\n",
    " \"student, no advice\" = \"0:0:0\", \"expert, no advice\" = \"1:0:0\", \n",
    " \"student, incorrect advice\" = \"0:1:0\", \"expert, incorrect advice\" = \"1:1:0\",\n",
    " \"student, correct advice\" = \"0:1:1\", \"expert, correct advice\" = \"1:1:1\")) %>% \n",
    "  group_by(condition) %>%\n",
    "  summarize(relative_frequency = sum(y_bin) / n())\n"
   ],
   "id": "7a3756e1-3f0a-4890-a6ed-b7edad700366"
  },
  {
   "cell_type": "markdown",
   "metadata": {},
   "source": [
    "### Insightful model based quantities"
   ],
   "id": "f0fbf3dd-553e-4c2f-9505-782a5fba2994"
  },
  {
   "cell_type": "code",
   "execution_count": null,
   "metadata": {},
   "outputs": [],
   "source": [
    "\n",
    "library(ggdist)\n",
    "dat %>% \n",
    "  mutate(condition = fct_cross(\n",
    "    factor(expert), factor(advice_present), factor(advice_correct))) %>%\n",
    "  mutate(condition = fct_recode(condition,\n",
    "\"student, no advice\" = \"0:0:0\", \"expert, no advice\" = \"1:0:0\", \n",
    "\"student, incorrect advice\" = \"0:1:0\", \"expert, incorrect advice\" = \"1:1:0\",\n",
    "\"student, correct advice\" = \"0:1:1\", \"expert, correct advice\" = \"1:1:1\")) %>% \n",
    "  ggplot(aes(x = y_prob, y = condition)) +\n",
    "  stat_histinterval(point_interval = \"mean_qi\", slab_color = \"gray45\",\n",
    "    breaks = \"Sturges\") +\n",
    "  scale_x_continuous(breaks = seq(0, 1, 0.1), limits = c(0, 1))\n"
   ],
   "id": "cell-fig-margdist1"
  },
  {
   "cell_type": "code",
   "execution_count": null,
   "metadata": {},
   "outputs": [],
   "source": [
    "set.seed(1)\n",
    "dat <- simulate(n_subjects = 500, n_items = 500, sd_u0i = 0.01)\n",
    "dat %>% \n",
    "  mutate(condition = fct_cross(\n",
    "    factor(expert), factor(advice_present), factor(advice_correct))) %>%\n",
    "  mutate(condition = fct_recode(condition,\n",
    "\"student, no advice\" = \"0:0:0\", \"expert, no advice\" = \"1:0:0\", \n",
    "\"student, incorrect advice\" = \"0:1:0\", \"expert, incorrect advice\" = \"1:1:0\",\n",
    "\"student, correct advice\" = \"0:1:1\", \"expert, correct advice\" = \"1:1:1\")) %>% \n",
    "  ggplot(aes(x = y_prob, y = condition)) +\n",
    "  stat_histinterval(point_interval = \"mean_qi\", slab_color = \"gray45\",\n",
    "    breaks = \"Sturges\") +\n",
    "  scale_x_continuous(breaks = seq(0, 1, 0.1), limits = c(0, 1))\n"
   ],
   "id": "cell-fig-margdist2"
  },
  {
   "cell_type": "code",
   "execution_count": null,
   "metadata": {},
   "outputs": [],
   "source": [
    "set.seed(1)\n",
    "dat <- simulate(n_subjects = 500, n_items = 500, sd_u0s = 0.01)\n",
    "dat %>% \n",
    "  mutate(condition = fct_cross(\n",
    "    factor(expert), factor(advice_present), factor(advice_correct))) %>%\n",
    "  mutate(condition = fct_recode(condition,\n",
    "\"student, no advice\" = \"0:0:0\", \"expert, no advice\" = \"1:0:0\", \n",
    "\"student, incorrect advice\" = \"0:1:0\", \"expert, incorrect advice\" = \"1:1:0\",\n",
    "\"student, correct advice\" = \"0:1:1\", \"expert, correct advice\" = \"1:1:1\")) %>% \n",
    "  ggplot(aes(x = y_prob, y = condition)) +\n",
    "  stat_histinterval(point_interval = \"mean_qi\", slab_color = \"gray45\",\n",
    "    breaks = \"Sturges\") +\n",
    "  scale_x_continuous(breaks = seq(0, 1, 0.1), limits = c(0, 1))\n"
   ],
   "id": "2a742d49-66b4-426b-8be5-30966117da04"
  },
  {
   "cell_type": "code",
   "execution_count": null,
   "metadata": {},
   "outputs": [],
   "source": [
    "set.seed(1)\n",
    "dat <- simulate(n_subjects = 500, n_items = 500, sd_u0s = 3, sd_u0i = 3)\n",
    "dat %>% \n",
    "  mutate(condition = fct_cross(\n",
    "    factor(expert), factor(advice_present), factor(advice_correct))) %>%\n",
    "  mutate(condition = fct_recode(condition,\n",
    "\"student, no advice\" = \"0:0:0\", \"expert, no advice\" = \"1:0:0\", \n",
    "\"student, incorrect advice\" = \"0:1:0\", \"expert, incorrect advice\" = \"1:1:0\",\n",
    "\"student, correct advice\" = \"0:1:1\", \"expert, correct advice\" = \"1:1:1\")) %>% \n",
    "  ggplot(aes(x = y_prob, y = condition)) +\n",
    "  stat_histinterval(point_interval = \"mean_qi\", slab_color = \"gray45\",\n",
    "    breaks = \"Sturges\") +\n",
    "  scale_x_continuous(breaks = seq(0, 1, 0.1), limits = c(0, 1))\n"
   ],
   "id": "cell-fig-margdist3"
  },
  {
   "cell_type": "markdown",
   "metadata": {},
   "source": [
    "## Estimate the statistical model"
   ],
   "id": "29d3e9de-a2a1-40c6-840c-ef2749d60229"
  },
  {
   "cell_type": "code",
   "execution_count": null,
   "metadata": {},
   "outputs": [],
   "source": [
    "library(tidyverse)\n",
    "library(lme4)\n",
    "set.seed(1)\n",
    "dat <- simulate(n_subjects = 100, n_items = 50)\n",
    "f <- y_bin ~ 1 + expert + advice_present + advice_correct + \n",
    "  expert:advice_present + expert:advice_correct +\n",
    "  (1|subject) + (1|item)\n",
    "fit <- glmer(f, data = dat, family = \"binomial\")\n",
    "summary(fit)\n"
   ],
   "id": "c5b3e2ed-c587-477d-9b93-2345a0d60aef"
  },
  {
   "cell_type": "markdown",
   "metadata": {},
   "source": [
    "## Compute the estimate"
   ],
   "id": "c726f26d-8dee-4524-9a19-97cdfd9f5644"
  },
  {
   "cell_type": "code",
   "execution_count": null,
   "metadata": {},
   "outputs": [],
   "source": [
    "grid1 <- data.frame(advice_present = c(1, 0), advice_correct = c(1, 0), \n",
    "  expert = c(1, 1))\n",
    "grid1\n",
    "pred <- predict(fit, newdata = grid1, type = \"response\", re.form = NA)\n",
    "pred\n",
    "pred[1] - pred[2]\n"
   ],
   "id": "a9e9cd2a-b829-426b-8a29-102cc38b62a8"
  },
  {
   "cell_type": "code",
   "execution_count": null,
   "metadata": {},
   "outputs": [],
   "source": [
    "library(marginaleffects)\n",
    "library(tinytable)\n",
    "grid2 <- expand_grid(advice_present = 0:1, \n",
    "  advice_correct = 0:1, expert = 0:1)\n",
    "grid2\n",
    "preds <- predictions(fit, newdata = grid2, \n",
    "  type = \"response\", re.form = NA)\n",
    "print(preds, style = \"tinytable\") %>% theme_tt(theme = \"resize\")\n"
   ],
   "id": "cb982098-8669-4878-a063-8ecd2df49609"
  },
  {
   "cell_type": "code",
   "execution_count": null,
   "metadata": {},
   "outputs": [],
   "source": [
    "contrasts <- preds %>% \n",
    "  hypotheses(hypothesis = c(\n",
    "    \"b8 = b2\",  # (correct advice, expert) - (no advice, expert)\n",
    "    \"b2 = b6\",  # (no advice, expert) - (incorrect advice, expert) \n",
    "    \"b7 = b1\",  # (correct advice, student) - (no advice, student)\n",
    "    \"b1 = b5\"), # (no advice, student) - (incorrect advice, student)\n",
    "    equivalence = c(0, 0))\n",
    "print(contrasts, style = \"tinytable\") %>% theme_tt(theme = \"resize\")\n"
   ],
   "id": "a8295c5e-7c29-4201-8967-de1d4e96d0a1"
  },
  {
   "cell_type": "markdown",
   "metadata": {},
   "source": [
    "## Perform repeated simulations"
   ],
   "id": "1c090b4b-6bf4-4cf8-a72e-7dba51c7d1ad"
  },
  {
   "cell_type": "code",
   "execution_count": null,
   "metadata": {},
   "outputs": [],
   "source": [
    "sim_and_analyse <- function(\n",
    "  formula_chr = \"y_bin ~ 1 + expert + advice_present + advice_correct + \n",
    "    expert:advice_present + expert:advice_correct + (1|subject) + (1|item)\",\n",
    "  contrasts = c(\"b8 = b2\", \"b2 = b6\", \"b7 = b1\", \"b1 = b5\"), ...){\n",
    "  require(lme4)\n",
    "  require(marginaleffects)\n",
    "  require(tidyr)\n",
    "  # simulate data\n",
    "  dat <- simulate(...)\n",
    "  # fit model\n",
    "  model <- glmer(as.formula(formula_chr), data = dat, family = \"binomial\")\n",
    "  # compute contrasts\n",
    "  contr_df <- expand_grid(advice_present = 0:1, advice_correct = 0:1,\n",
    "    expert = 0:1)\n",
    "  predictions(model, newdata = contr_df, type = \"response\", re.form = NA) %>%\n",
    "    hypotheses(hypothesis = contrasts, equivalence = c(0, 0)) %>%\n",
    "    data.frame()\n",
    "}\n"
   ],
   "id": "f91b840f-11a3-4e07-81db-124992389faf"
  },
  {
   "cell_type": "code",
   "execution_count": null,
   "metadata": {},
   "outputs": [],
   "source": [
    "library(future)\n",
    "plan(\"multisession\", workers = 4)\n",
    "set.seed(2)\n"
   ],
   "id": "db712850-f55d-4a26-a168-ae0126dd78b3"
  },
  {
   "cell_type": "code",
   "execution_count": null,
   "metadata": {},
   "outputs": [],
   "source": [
    "library(furrr)\n",
    "sim_result <- crossing(\n",
    "  rep = 1:5,\n",
    "  n_subjects = c(100, 150, 200, 250),\n",
    "  n_items = c(10, 30, 50, 70)\n",
    ") %>%\n",
    "  mutate(res = future_pmap(., sim_and_analyse, \n",
    "    .options = furrr_options(seed = TRUE))) %>%\n",
    "  unnest(col = res)\n"
   ],
   "id": "1f590eef-94fd-4db0-8006-93478da53639"
  },
  {
   "cell_type": "markdown",
   "metadata": {},
   "source": [
    "#### Power results"
   ],
   "id": "97dd27fe-58f2-45de-917b-d7d880cc292c"
  },
  {
   "cell_type": "code",
   "execution_count": null,
   "metadata": {},
   "outputs": [],
   "source": [
    "library(binom)\n",
    "alpha <- 0.05\n",
    "power <- sim_result %>%\n",
    "  pivot_wider(names_from = term, names_sep = \"_\", \n",
    "    values_from = estimate:p.value.equiv) %>%\n",
    "  group_by(n_subjects, n_items) %>% \n",
    "  summarise(\n",
    "    power = mean(`p.value.noninf_b1=b5` < alpha & \n",
    "        `p.value.noninf_b8=b2` < alpha & `p.value.noninf_b2=b6` < alpha & \n",
    "        `p.value.noninf_b7=b1` < alpha), \n",
    "    n_sig = sum(`p.value.noninf_b1=b5` < alpha & \n",
    "        `p.value.noninf_b8=b2` < alpha & `p.value.noninf_b2=b6` < alpha & \n",
    "        `p.value.noninf_b7=b1` < alpha),\n",
    "    n = n(),\n",
    "    ci.lwr = binom.confint(n_sig, n, method = \"wilson\")$lower,\n",
    "    ci.upr = binom.confint(n_sig, n, method = \"wilson\")$upper, \n",
    "    .groups = \"drop\")\n",
    "power %>%\n",
    "  mutate(across(c(n_subjects, n_items), factor)) %>%\n",
    "  ggplot(aes(n_subjects, n_items, fill = power)) +\n",
    "  geom_tile() +\n",
    "  geom_text(aes(label = sprintf(\"%.2f \\n [%.2f; %.2f]\", \n",
    "                                power, ci.lwr, ci.upr)), \n",
    "    color = \"white\", size = 4) +\n",
    "  scale_fill_viridis_c(limits = c(0, 1)) +\n",
    "  xlab(\"number of subjects\") + ylab(\"number of items\")\n"
   ],
   "id": "cell-fig-finalpwr"
  },
  {
   "cell_type": "markdown",
   "metadata": {},
   "source": [
    "#### Precision results"
   ],
   "id": "59ffd07d-a151-4dc8-be25-9d77c6fbd3fe"
  },
  {
   "cell_type": "code",
   "execution_count": null,
   "metadata": {},
   "outputs": [],
   "source": [
    "precision <- sim_result %>%\n",
    "  pivot_wider(names_from = term, names_sep = \"_\", \n",
    "    values_from = estimate:p.value.equiv) %>%\n",
    "  group_by(n_subjects, n_items) %>%\n",
    "  mutate(width = `conf.high_b8=b2` - `conf.low_b8=b2`) %>%\n",
    "  summarise(precision = mean(width),\n",
    "    ci.lwr = t.test(width)$conf.int[1],\n",
    "    ci.upr = t.test(width)$conf.int[2], \n",
    "    .groups = \"drop\")\n",
    "precision %>%\n",
    "  mutate(across(c(n_subjects, n_items), factor)) %>%\n",
    "  ggplot(aes(n_subjects, n_items, fill = precision)) +\n",
    "  geom_tile() +\n",
    "  geom_text(aes(label = sprintf(\"%.2f \\n [%.2f; %.2f]\", \n",
    "                                precision, ci.lwr, ci.upr)), \n",
    "    color = \"white\", size = 4) +\n",
    "  scale_fill_viridis_c(limits = c(0, 0.3), direction = -1) +\n",
    "  guides(fill = guide_legend(reverse=FALSE))\n"
   ],
   "id": "cell-fig-finalprecision"
  }
 ],
 "nbformat": 4,
 "nbformat_minor": 5,
 "metadata": {}
}
