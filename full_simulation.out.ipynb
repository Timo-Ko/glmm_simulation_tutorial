{
 "cells": [
  {
   "cell_type": "markdown",
   "metadata": {},
   "source": [
    "# Run the full simulation for the case study example\n",
    "\n",
    "> **Note**\n",
    ">\n",
    "> This Notebook was used to run the full simulation for the case study discussed in the manuscript. The simulation takes more than 1 hour to run on a Mac Book Pro (13-inch, M1, 2020) with 16 GB memory.\n",
    "\n",
    "## Simulation functions"
   ],
   "id": "9d3cdd79-b460-4a68-9edf-3d9049b80068"
  },
  {
   "cell_type": "code",
   "execution_count": null,
   "metadata": {},
   "outputs": [],
   "source": [
    "simulate <- function(n_subjects = 100, n_items = 50,\n",
    "  b_0 = 0.847, b_e = 1.350, b_a = -1.253, b_c = 2.603,\n",
    "  b_ea = 0.790, b_ec = -1.393,\n",
    "  sd_u0s = 0.5, sd_u0i = 0.5, ...){\n",
    "  require(dplyr)\n",
    "  require(faux)\n",
    "  # simulate design\n",
    "  dat <- add_random(subject = n_subjects, item = n_items) |>\n",
    "    add_between(\"subject\", expert = c(1, 0), .prob = c(0.25, 0.75)) |>\n",
    "    mutate(advice_present = rbinom(n(), 1, prob = 2/3)) |>\n",
    "    mutate(advice_correct = if_else(advice_present == 1L, \n",
    "                                    rbinom(n(), 1L, prob = 0.8), 0L)) |>\n",
    "    # add random effects\n",
    "    add_ranef(\"subject\", u0s = sd_u0s) |>\n",
    "    add_ranef(\"item\", u0i = sd_u0i) |>\n",
    "    # compute dependent variable\n",
    "    mutate(linpred = b_0 + u0i + u0s +\n",
    "        b_e * expert + b_a * advice_present + b_c * advice_correct +\n",
    "        b_ea * expert * advice_present + b_ec * expert * advice_correct) |>\n",
    "    mutate(y_prob = plogis(linpred)) |>\n",
    "    mutate(y_bin = rbinom(n = n(), size = 1, prob = y_prob))\n",
    "  dat\n",
    "}\n"
   ],
   "id": "ccfaa780-4a16-4566-8736-8ebba9442df3"
  },
  {
   "cell_type": "code",
   "execution_count": null,
   "metadata": {},
   "outputs": [],
   "source": [
    "sim_and_analyse <- function(\n",
    "  formula_chr = \"y_bin ~ 1 + expert + advice_present + advice_correct + \n",
    "    expert:advice_present + expert:advice_correct + (1|subject) + (1|item)\",\n",
    "  contrasts = c(\"b8 = b2\", \"b2 = b6\", \"b7 = b1\", \"b1 = b5\"), ...){\n",
    "  require(lme4)\n",
    "  require(marginaleffects)\n",
    "  require(tidyr)\n",
    "  # simulate data\n",
    "  dat <- simulate(...)\n",
    "  # fit model\n",
    "  model <- glmer(as.formula(formula_chr), data = dat, family = \"binomial\")\n",
    "  # compute contrasts\n",
    "  contr_df <- expand_grid(advice_present = 0:1, advice_correct = 0:1,\n",
    "    expert = 0:1)\n",
    "  predictions(model, newdata = contr_df, type = \"response\", re.form = NA) |>\n",
    "    hypotheses(hypothesis = contrasts, equivalence = c(0, 0)) |>\n",
    "    data.frame()\n",
    "}\n"
   ],
   "id": "4146e2cc-230a-4dc8-8002-e2bdaf9e3ed5"
  },
  {
   "cell_type": "markdown",
   "metadata": {},
   "source": [
    "## Run simulation"
   ],
   "id": "1b55c988-ba2b-467e-b335-800d68370785"
  },
  {
   "cell_type": "code",
   "execution_count": null,
   "metadata": {},
   "outputs": [],
   "source": [
    "library(tidyverse)\n",
    "library(future)\n",
    "library(furrr)\n",
    "  \n",
    "plan(\"multisession\", workers = 6)\n",
    "set.seed(2)\n",
    "  \n",
    "sim_result <- crossing(\n",
    "  rep = 1:300,\n",
    "  n_subjects = c(100, 150, 200, 250),\n",
    "  n_items = c(10, 30, 50, 70)\n",
    ") |>\n",
    "  mutate(res = future_pmap(., sim_and_analyse, \n",
    "    .options = furrr_options(seed = TRUE))) |>\n",
    "  unnest(col = res)\n"
   ],
   "id": "028aa726-a240-4d19-812e-9deb1c1dd0f9"
  },
  {
   "cell_type": "markdown",
   "metadata": {},
   "source": [
    "## Save results file to be used in the manuscript"
   ],
   "id": "45b169c5-1510-4ada-8f91-49627ae13482"
  },
  {
   "cell_type": "code",
   "execution_count": null,
   "metadata": {},
   "outputs": [],
   "source": [
    "saveRDS(sim_result, file = \"results.rds\")\n"
   ],
   "id": "8e629576-c029-4c7d-a49c-83b7f130972a"
  }
 ],
 "nbformat": 4,
 "nbformat_minor": 5,
 "metadata": {}
}
